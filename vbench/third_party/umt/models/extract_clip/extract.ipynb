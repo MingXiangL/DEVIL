{
 "cells": [
  {
   "cell_type": "code",
   "execution_count": 9,
   "metadata": {},
   "outputs": [],
   "source": [
    "import clip.clip as clip\n",
    "import os\n",
    "import torch\n",
    "from collections import OrderedDict"
   ]
  },
  {
   "cell_type": "code",
   "execution_count": 10,
   "metadata": {},
   "outputs": [],
   "source": [
    "path = 'your_model_path/clip_visual_encoder'"
   ]
  },
  {
   "cell_type": "code",
   "execution_count": 14,
   "metadata": {},
   "outputs": [],
   "source": [
    "model, _ = clip.load(\"ViT-B/16\", device='cpu')\n",
    "new_state_dict = OrderedDict()\n",
    "for k, v in model.state_dict().items():\n",
    "    if 'visual.' in k:\n",
    "        new_state_dict[k[7:]] = v\n",
    "torch.save(new_state_dict, os.path.join(path, 'vit_b16.pth'))"
   ]
  },
  {
   "cell_type": "code",
   "execution_count": 15,
   "metadata": {},
   "outputs": [],
   "source": [
    "model, _ = clip.load(\"ViT-L/14\", device='cpu')\n",
    "new_state_dict = OrderedDict()\n",
    "for k, v in model.state_dict().items():\n",
    "    if 'visual.' in k:\n",
    "        new_state_dict[k[7:]] = v\n",
    "torch.save(new_state_dict, os.path.join(path, 'vit_l14.pth'))"
   ]
  },
  {
   "cell_type": "code",
   "execution_count": null,
   "metadata": {},
   "outputs": [],
   "source": [
    "model, _ = clip.load(\"ViT-L/14@336px\", device='cpu')\n",
    "new_state_dict = OrderedDict()\n",
    "for k, v in model.state_dict().items():\n",
    "    if 'visual.' in k:\n",
    "        new_state_dict[k[7:]] = v\n",
    "torch.save(new_state_dict, os.path.join(path, 'vit_l14_336.pth'))"
   ]
  },
  {
   "cell_type": "code",
   "execution_count": null,
   "metadata": {},
   "outputs": [],
   "source": []
  }
 ],
 "metadata": {
  "kernelspec": {
   "display_name": "Python 3.7.13 ('torch1.9')",
   "language": "python",
   "name": "python3"
  },
  "language_info": {
   "codemirror_mode": {
    "name": "ipython",
    "version": 3
   },
   "file_extension": ".py",
   "mimetype": "text/x-python",
   "name": "python",
   "nbconvert_exporter": "python",
   "pygments_lexer": "ipython3",
   "version": "3.7.13"
  },
  "orig_nbformat": 4,
  "vscode": {
   "interpreter": {
    "hash": "c30e0be9d1dabfc31a056b9daab5ce1d15284c0e9e5af7f56f8931344ec84c24"
   }
  }
 },
 "nbformat": 4,
 "nbformat_minor": 2
}
